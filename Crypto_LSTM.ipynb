{
  "nbformat": 4,
  "nbformat_minor": 0,
  "metadata": {
    "colab": {
      "name": "Crypto LSTM",
      "provenance": [],
      "collapsed_sections": [],
      "authorship_tag": "ABX9TyManXOEMsUUOWmlTAd1jp+i",
      "include_colab_link": true
    },
    "kernelspec": {
      "name": "python3",
      "display_name": "Python 3"
    },
    "language_info": {
      "name": "python"
    }
  },
  "cells": [
    {
      "cell_type": "markdown",
      "metadata": {
        "id": "view-in-github",
        "colab_type": "text"
      },
      "source": [
        "<a href=\"https://colab.research.google.com/github/mitchwolfe1/Crypto-PD/blob/main/Crypto_LSTM.ipynb\" target=\"_parent\"><img src=\"https://colab.research.google.com/assets/colab-badge.svg\" alt=\"Open In Colab\"/></a>"
      ]
    },
    {
      "cell_type": "code",
      "execution_count": 36,
      "metadata": {
        "id": "K_X7qHzzWtj0"
      },
      "outputs": [],
      "source": [
        "import pandas as pd\n",
        "import numpy as np\n",
        "import matplotlib.pyplot as plt\n",
        "import keras\n",
        "from keras.models import Sequential\n",
        "from keras.layers import LSTM\n",
        "from keras.layers import Dense\n",
        "from keras.layers import Dropout\n",
        "from sklearn.preprocessing import MinMaxScaler"
      ]
    },
    {
      "cell_type": "code",
      "source": [
        "data = pd.read_csv(\"all.txt\")\n",
        "data = data.iloc[:, 1:3]\n",
        "data.columns = [\"Time\", \"Price\"]"
      ],
      "metadata": {
        "id": "XszRThbPf8ji"
      },
      "execution_count": 106,
      "outputs": []
    },
    {
      "cell_type": "code",
      "source": [
        "data.head()"
      ],
      "metadata": {
        "colab": {
          "base_uri": "https://localhost:8080/",
          "height": 204
        },
        "id": "2Ho-x7cXgGKa",
        "outputId": "be3cd2b4-64a0-4f05-ef6b-55b3a6832e56"
      },
      "execution_count": 107,
      "outputs": [
        {
          "output_type": "execute_result",
          "data": {
            "text/html": [
              "<div>\n",
              "<style scoped>\n",
              "    .dataframe tbody tr th:only-of-type {\n",
              "        vertical-align: middle;\n",
              "    }\n",
              "\n",
              "    .dataframe tbody tr th {\n",
              "        vertical-align: top;\n",
              "    }\n",
              "\n",
              "    .dataframe thead th {\n",
              "        text-align: right;\n",
              "    }\n",
              "</style>\n",
              "<table border=\"1\" class=\"dataframe\">\n",
              "  <thead>\n",
              "    <tr style=\"text-align: right;\">\n",
              "      <th></th>\n",
              "      <th>Time</th>\n",
              "      <th>Price</th>\n",
              "    </tr>\n",
              "  </thead>\n",
              "  <tbody>\n",
              "    <tr>\n",
              "      <th>0</th>\n",
              "      <td>2021-09-30 17:15:00</td>\n",
              "      <td>0.000017</td>\n",
              "    </tr>\n",
              "    <tr>\n",
              "      <th>1</th>\n",
              "      <td>2021-09-30 17:30:00</td>\n",
              "      <td>0.000018</td>\n",
              "    </tr>\n",
              "    <tr>\n",
              "      <th>2</th>\n",
              "      <td>2021-09-30 17:45:00</td>\n",
              "      <td>0.000018</td>\n",
              "    </tr>\n",
              "    <tr>\n",
              "      <th>3</th>\n",
              "      <td>2021-09-30 18:00:00</td>\n",
              "      <td>0.000018</td>\n",
              "    </tr>\n",
              "    <tr>\n",
              "      <th>4</th>\n",
              "      <td>2021-09-30 18:15:00</td>\n",
              "      <td>0.000018</td>\n",
              "    </tr>\n",
              "  </tbody>\n",
              "</table>\n",
              "</div>"
            ],
            "text/plain": [
              "                  Time     Price\n",
              "0  2021-09-30 17:15:00  0.000017\n",
              "1  2021-09-30 17:30:00  0.000018\n",
              "2  2021-09-30 17:45:00  0.000018\n",
              "3  2021-09-30 18:00:00  0.000018\n",
              "4  2021-09-30 18:15:00  0.000018"
            ]
          },
          "metadata": {},
          "execution_count": 107
        }
      ]
    },
    {
      "cell_type": "code",
      "source": [
        "data.shape"
      ],
      "metadata": {
        "colab": {
          "base_uri": "https://localhost:8080/"
        },
        "id": "lnb6_wclgRrt",
        "outputId": "0648d2b4-ab34-4d20-8815-798f90e37084"
      },
      "execution_count": 108,
      "outputs": [
        {
          "output_type": "execute_result",
          "data": {
            "text/plain": [
              "(6570, 2)"
            ]
          },
          "metadata": {},
          "execution_count": 108
        }
      ]
    },
    {
      "cell_type": "markdown",
      "source": [
        "### We are training off of the market price at each 15 minute interval"
      ],
      "metadata": {
        "id": "VEQWohVriKAY"
      }
    },
    {
      "cell_type": "code",
      "source": [
        "# We are looking at the data in 1000 chunk increments\n",
        "# We save the first 980 lines for training\n",
        "# The last 20 are for training\n",
        "# We will build a predictive model based off of the first 980 lines \n",
        "# and try to predict the next 20\n",
        "# Based off our predictions we will have a short term trading strategy\n",
        "# And try that\n",
        "all_training_data = [data.iloc[(i*1000):(i+1)*1000 - 20, 1:2].values for i in range(6)]\n",
        "all_testing_data = [data.iloc[(i+1)*1000 - 20: (i+1)*1000, 1:2].values for i in range(6)]\n",
        "all_total_data = [data.iloc[(i*1000): (i+1)*1000, 1:2] for i in range(6)]"
      ],
      "metadata": {
        "id": "i8cpj8MygX6B"
      },
      "execution_count": 109,
      "outputs": []
    },
    {
      "cell_type": "code",
      "source": [
        "all_training_data[0][:5]"
      ],
      "metadata": {
        "colab": {
          "base_uri": "https://localhost:8080/"
        },
        "id": "x_s5VG4JiDDX",
        "outputId": "cccfda95-fd00-425a-b577-7ee228b9c630"
      },
      "execution_count": 110,
      "outputs": [
        {
          "output_type": "execute_result",
          "data": {
            "text/plain": [
              "array([[1.741e-05],\n",
              "       [1.755e-05],\n",
              "       [1.752e-05],\n",
              "       [1.753e-05],\n",
              "       [1.753e-05]])"
            ]
          },
          "metadata": {},
          "execution_count": 110
        }
      ]
    },
    {
      "cell_type": "markdown",
      "source": [
        "## Training for One Data Sample"
      ],
      "metadata": {
        "id": "kz5FsvKIkfuD"
      }
    },
    {
      "cell_type": "code",
      "source": [
        "train, test, total = all_training_data[0], all_testing_data[0], all_total_data[0]"
      ],
      "metadata": {
        "id": "NbqOk021joHh"
      },
      "execution_count": 111,
      "outputs": []
    },
    {
      "cell_type": "code",
      "source": [
        "# We are normaling our pricing data\n",
        "ss= MinMaxScaler(feature_range=(0,1))\n",
        "train_scaled= ss.fit_transform(train)"
      ],
      "metadata": {
        "id": "eC8HGettkj8l"
      },
      "execution_count": 112,
      "outputs": []
    },
    {
      "cell_type": "code",
      "source": [
        "# We will have 20 look backs, \n",
        "#for a total of 5 hours of post event knowledge\n",
        "train_scaled[20]"
      ],
      "metadata": {
        "colab": {
          "base_uri": "https://localhost:8080/"
        },
        "id": "60LiyR5Pk0_4",
        "outputId": "1adedca7-6395-4965-dc94-5183ac887e47"
      },
      "execution_count": 113,
      "outputs": [
        {
          "output_type": "execute_result",
          "data": {
            "text/plain": [
              "array([0.20941176])"
            ]
          },
          "metadata": {},
          "execution_count": 113
        }
      ]
    },
    {
      "cell_type": "code",
      "source": [
        "x_train = []\n",
        "y_train = []\n",
        "for i in range(20,len(train_scaled)):\n",
        "    x_train.append(train_scaled[i-20:i,0])\n",
        "    y_train.append(train_scaled[i,0])\n",
        "\n",
        "x_train, y_train = np.array(x_train), np.array(y_train)"
      ],
      "metadata": {
        "id": "2ELrmM7wlRq0"
      },
      "execution_count": 114,
      "outputs": []
    },
    {
      "cell_type": "code",
      "source": [
        "# Reshape the train data for LSTM input \n",
        "x_train = np.reshape(x_train,(x_train.shape[0],x_train.shape[1],1))"
      ],
      "metadata": {
        "id": "jt_DxVYylwtZ"
      },
      "execution_count": 115,
      "outputs": []
    },
    {
      "cell_type": "code",
      "source": [
        "x_train.shape"
      ],
      "metadata": {
        "colab": {
          "base_uri": "https://localhost:8080/"
        },
        "id": "zN-Yup0FmDI0",
        "outputId": "f006af10-dad4-4e05-90ba-f6f368480b05"
      },
      "execution_count": 116,
      "outputs": [
        {
          "output_type": "execute_result",
          "data": {
            "text/plain": [
              "(960, 20, 1)"
            ]
          },
          "metadata": {},
          "execution_count": 116
        }
      ]
    },
    {
      "cell_type": "markdown",
      "source": [
        "## Building LSTM model"
      ],
      "metadata": {
        "id": "uaMrTqkbmIUC"
      }
    },
    {
      "cell_type": "code",
      "source": [
        "#initialisizng the model \n",
        "regression= Sequential()\n",
        "\n",
        "#First Input layer and LSTM layer with 20% dropout\n",
        "regression.add(LSTM(units=50,return_sequences=True,kernel_initializer='glorot_uniform',input_shape=(x_train.shape[1],1)))\n",
        "regression.add(Dropout(0.2))\n",
        "\n",
        "# Where:\n",
        "#     return_sequences: Boolean. Whether to return the last output in the output sequence, or the full sequence.\n",
        "\n",
        "# Second LSTM layer with 20% dropout\n",
        "regression.add(LSTM(units=50,kernel_initializer='glorot_uniform',return_sequences=True))\n",
        "regression.add(Dropout(0.2))\n",
        "\n",
        "#Third LSTM layer with 20% dropout\n",
        "regression.add(LSTM(units=50,kernel_initializer='glorot_uniform',return_sequences=True))\n",
        "regression.add(Dropout(0.2))\n",
        "\n",
        "#Fourth LSTM layer with 20% dropout, we wont use return sequence true in last layers as we dont want to previous output\n",
        "regression.add(LSTM(units=50,kernel_initializer='glorot_uniform'))\n",
        "regression.add(Dropout(0.2))\n",
        "#Output layer , we wont pass any activation as its continous value model\n",
        "regression.add(Dense(units=1))\n",
        "\n",
        "#Compiling the network\n",
        "regression.compile(optimizer='adam',loss='mean_squared_error')\n",
        "\n",
        "\n",
        "#fitting the network\n",
        "regression.fit(x_train,y_train,batch_size=30,epochs=100)"
      ],
      "metadata": {
        "colab": {
          "base_uri": "https://localhost:8080/"
        },
        "id": "dP7bLklmmKDE",
        "outputId": "ea4a7b3f-015d-437d-f49f-1d6df55ef187"
      },
      "execution_count": 117,
      "outputs": [
        {
          "output_type": "stream",
          "name": "stdout",
          "text": [
            "Epoch 1/100\n",
            "32/32 [==============================] - 7s 32ms/step - loss: 0.0320\n",
            "Epoch 2/100\n",
            "32/32 [==============================] - 1s 33ms/step - loss: 0.0097\n",
            "Epoch 3/100\n",
            "32/32 [==============================] - 1s 32ms/step - loss: 0.0088\n",
            "Epoch 4/100\n",
            "32/32 [==============================] - 1s 33ms/step - loss: 0.0086\n",
            "Epoch 5/100\n",
            "32/32 [==============================] - 1s 33ms/step - loss: 0.0090\n",
            "Epoch 6/100\n",
            "32/32 [==============================] - 1s 33ms/step - loss: 0.0086\n",
            "Epoch 7/100\n",
            "32/32 [==============================] - 1s 32ms/step - loss: 0.0077\n",
            "Epoch 8/100\n",
            "32/32 [==============================] - 1s 34ms/step - loss: 0.0084\n",
            "Epoch 9/100\n",
            "32/32 [==============================] - 1s 33ms/step - loss: 0.0080\n",
            "Epoch 10/100\n",
            "32/32 [==============================] - 1s 32ms/step - loss: 0.0072\n",
            "Epoch 11/100\n",
            "32/32 [==============================] - 1s 33ms/step - loss: 0.0075\n",
            "Epoch 12/100\n",
            "32/32 [==============================] - 1s 33ms/step - loss: 0.0074\n",
            "Epoch 13/100\n",
            "32/32 [==============================] - 1s 33ms/step - loss: 0.0069\n",
            "Epoch 14/100\n",
            "32/32 [==============================] - 1s 33ms/step - loss: 0.0065\n",
            "Epoch 15/100\n",
            "32/32 [==============================] - 1s 32ms/step - loss: 0.0070\n",
            "Epoch 16/100\n",
            "32/32 [==============================] - 1s 33ms/step - loss: 0.0059\n",
            "Epoch 17/100\n",
            "32/32 [==============================] - 1s 34ms/step - loss: 0.0061\n",
            "Epoch 18/100\n",
            "32/32 [==============================] - 1s 33ms/step - loss: 0.0060\n",
            "Epoch 19/100\n",
            "32/32 [==============================] - 1s 32ms/step - loss: 0.0056\n",
            "Epoch 20/100\n",
            "32/32 [==============================] - 1s 32ms/step - loss: 0.0056\n",
            "Epoch 21/100\n",
            "32/32 [==============================] - 1s 32ms/step - loss: 0.0048\n",
            "Epoch 22/100\n",
            "32/32 [==============================] - 1s 32ms/step - loss: 0.0057\n",
            "Epoch 23/100\n",
            "32/32 [==============================] - 1s 33ms/step - loss: 0.0056\n",
            "Epoch 24/100\n",
            "32/32 [==============================] - 1s 33ms/step - loss: 0.0046\n",
            "Epoch 25/100\n",
            "32/32 [==============================] - 1s 32ms/step - loss: 0.0044\n",
            "Epoch 26/100\n",
            "32/32 [==============================] - 1s 33ms/step - loss: 0.0046\n",
            "Epoch 27/100\n",
            "32/32 [==============================] - 1s 33ms/step - loss: 0.0048\n",
            "Epoch 28/100\n",
            "32/32 [==============================] - 1s 33ms/step - loss: 0.0045\n",
            "Epoch 29/100\n",
            "32/32 [==============================] - 1s 33ms/step - loss: 0.0056\n",
            "Epoch 30/100\n",
            "32/32 [==============================] - 1s 32ms/step - loss: 0.0041\n",
            "Epoch 31/100\n",
            "32/32 [==============================] - 1s 32ms/step - loss: 0.0042\n",
            "Epoch 32/100\n",
            "32/32 [==============================] - 1s 33ms/step - loss: 0.0050\n",
            "Epoch 33/100\n",
            "32/32 [==============================] - 1s 33ms/step - loss: 0.0046\n",
            "Epoch 34/100\n",
            "32/32 [==============================] - 1s 32ms/step - loss: 0.0041\n",
            "Epoch 35/100\n",
            "32/32 [==============================] - 1s 33ms/step - loss: 0.0037\n",
            "Epoch 36/100\n",
            "32/32 [==============================] - 1s 32ms/step - loss: 0.0041\n",
            "Epoch 37/100\n",
            "32/32 [==============================] - 1s 33ms/step - loss: 0.0041\n",
            "Epoch 38/100\n",
            "32/32 [==============================] - 1s 33ms/step - loss: 0.0040\n",
            "Epoch 39/100\n",
            "32/32 [==============================] - 1s 33ms/step - loss: 0.0039\n",
            "Epoch 40/100\n",
            "32/32 [==============================] - 1s 33ms/step - loss: 0.0033\n",
            "Epoch 41/100\n",
            "32/32 [==============================] - 1s 33ms/step - loss: 0.0043\n",
            "Epoch 42/100\n",
            "32/32 [==============================] - 1s 33ms/step - loss: 0.0035\n",
            "Epoch 43/100\n",
            "32/32 [==============================] - 1s 33ms/step - loss: 0.0035\n",
            "Epoch 44/100\n",
            "32/32 [==============================] - 1s 33ms/step - loss: 0.0033\n",
            "Epoch 45/100\n",
            "32/32 [==============================] - 1s 33ms/step - loss: 0.0036\n",
            "Epoch 46/100\n",
            "32/32 [==============================] - 1s 33ms/step - loss: 0.0034\n",
            "Epoch 47/100\n",
            "32/32 [==============================] - 1s 33ms/step - loss: 0.0029\n",
            "Epoch 48/100\n",
            "32/32 [==============================] - 1s 32ms/step - loss: 0.0031\n",
            "Epoch 49/100\n",
            "32/32 [==============================] - 1s 32ms/step - loss: 0.0035\n",
            "Epoch 50/100\n",
            "32/32 [==============================] - 1s 33ms/step - loss: 0.0029\n",
            "Epoch 51/100\n",
            "32/32 [==============================] - 1s 33ms/step - loss: 0.0035\n",
            "Epoch 52/100\n",
            "32/32 [==============================] - 1s 33ms/step - loss: 0.0031\n",
            "Epoch 53/100\n",
            "32/32 [==============================] - 1s 32ms/step - loss: 0.0030\n",
            "Epoch 54/100\n",
            "32/32 [==============================] - 1s 33ms/step - loss: 0.0031\n",
            "Epoch 55/100\n",
            "32/32 [==============================] - 1s 33ms/step - loss: 0.0030\n",
            "Epoch 56/100\n",
            "32/32 [==============================] - 1s 33ms/step - loss: 0.0031\n",
            "Epoch 57/100\n",
            "32/32 [==============================] - 1s 33ms/step - loss: 0.0032\n",
            "Epoch 58/100\n",
            "32/32 [==============================] - 1s 33ms/step - loss: 0.0030\n",
            "Epoch 59/100\n",
            "32/32 [==============================] - 1s 32ms/step - loss: 0.0030\n",
            "Epoch 60/100\n",
            "32/32 [==============================] - 1s 33ms/step - loss: 0.0031\n",
            "Epoch 61/100\n",
            "32/32 [==============================] - 1s 33ms/step - loss: 0.0030\n",
            "Epoch 62/100\n",
            "32/32 [==============================] - 1s 33ms/step - loss: 0.0028\n",
            "Epoch 63/100\n",
            "32/32 [==============================] - 1s 32ms/step - loss: 0.0028\n",
            "Epoch 64/100\n",
            "32/32 [==============================] - 1s 33ms/step - loss: 0.0027\n",
            "Epoch 65/100\n",
            "32/32 [==============================] - 1s 33ms/step - loss: 0.0028\n",
            "Epoch 66/100\n",
            "32/32 [==============================] - 1s 33ms/step - loss: 0.0026\n",
            "Epoch 67/100\n",
            "32/32 [==============================] - 1s 33ms/step - loss: 0.0026\n",
            "Epoch 68/100\n",
            "32/32 [==============================] - 1s 33ms/step - loss: 0.0026\n",
            "Epoch 69/100\n",
            "32/32 [==============================] - 1s 32ms/step - loss: 0.0029\n",
            "Epoch 70/100\n",
            "32/32 [==============================] - 1s 33ms/step - loss: 0.0031\n",
            "Epoch 71/100\n",
            "32/32 [==============================] - 1s 33ms/step - loss: 0.0028\n",
            "Epoch 72/100\n",
            "32/32 [==============================] - 1s 32ms/step - loss: 0.0029\n",
            "Epoch 73/100\n",
            "32/32 [==============================] - 1s 33ms/step - loss: 0.0030\n",
            "Epoch 74/100\n",
            "32/32 [==============================] - 1s 34ms/step - loss: 0.0029\n",
            "Epoch 75/100\n",
            "32/32 [==============================] - 1s 33ms/step - loss: 0.0027\n",
            "Epoch 76/100\n",
            "32/32 [==============================] - 1s 33ms/step - loss: 0.0025\n",
            "Epoch 77/100\n",
            "32/32 [==============================] - 1s 33ms/step - loss: 0.0024\n",
            "Epoch 78/100\n",
            "32/32 [==============================] - 1s 33ms/step - loss: 0.0026\n",
            "Epoch 79/100\n",
            "32/32 [==============================] - 1s 33ms/step - loss: 0.0026\n",
            "Epoch 80/100\n",
            "32/32 [==============================] - 1s 32ms/step - loss: 0.0025\n",
            "Epoch 81/100\n",
            "32/32 [==============================] - 1s 33ms/step - loss: 0.0028\n",
            "Epoch 82/100\n",
            "32/32 [==============================] - 1s 34ms/step - loss: 0.0027\n",
            "Epoch 83/100\n",
            "32/32 [==============================] - 1s 33ms/step - loss: 0.0025\n",
            "Epoch 84/100\n",
            "32/32 [==============================] - 1s 32ms/step - loss: 0.0027\n",
            "Epoch 85/100\n",
            "32/32 [==============================] - 1s 33ms/step - loss: 0.0024\n",
            "Epoch 86/100\n",
            "32/32 [==============================] - 1s 32ms/step - loss: 0.0025\n",
            "Epoch 87/100\n",
            "32/32 [==============================] - 1s 33ms/step - loss: 0.0026\n",
            "Epoch 88/100\n",
            "32/32 [==============================] - 1s 33ms/step - loss: 0.0024\n",
            "Epoch 89/100\n",
            "32/32 [==============================] - 1s 33ms/step - loss: 0.0026\n",
            "Epoch 90/100\n",
            "32/32 [==============================] - 1s 32ms/step - loss: 0.0023\n",
            "Epoch 91/100\n",
            "32/32 [==============================] - 1s 33ms/step - loss: 0.0025\n",
            "Epoch 92/100\n",
            "32/32 [==============================] - 1s 33ms/step - loss: 0.0031\n",
            "Epoch 93/100\n",
            "32/32 [==============================] - 1s 33ms/step - loss: 0.0025\n",
            "Epoch 94/100\n",
            "32/32 [==============================] - 1s 33ms/step - loss: 0.0026\n",
            "Epoch 95/100\n",
            "32/32 [==============================] - 1s 33ms/step - loss: 0.0023\n",
            "Epoch 96/100\n",
            "32/32 [==============================] - 1s 33ms/step - loss: 0.0024\n",
            "Epoch 97/100\n",
            "32/32 [==============================] - 1s 33ms/step - loss: 0.0026\n",
            "Epoch 98/100\n",
            "32/32 [==============================] - 1s 33ms/step - loss: 0.0023\n",
            "Epoch 99/100\n",
            "32/32 [==============================] - 1s 33ms/step - loss: 0.0022\n",
            "Epoch 100/100\n",
            "32/32 [==============================] - 1s 33ms/step - loss: 0.0027\n"
          ]
        },
        {
          "output_type": "execute_result",
          "data": {
            "text/plain": [
              "<keras.callbacks.History at 0x7fabc9df9250>"
            ]
          },
          "metadata": {},
          "execution_count": 117
        }
      ]
    },
    {
      "cell_type": "code",
      "source": [
        "test_input = total[len(total)-len(test)-20:].values\n",
        "test_input= test_input.reshape(-1,1) # reshaping it to get it transformed\n",
        "test_input= ss.transform(test_input)"
      ],
      "metadata": {
        "id": "H5jkbb8Vmw5d"
      },
      "execution_count": 118,
      "outputs": []
    },
    {
      "cell_type": "code",
      "source": [
        "# Recursive Prediction Strategy\n",
        "x_test = [test_input[0:20, 0]]\n",
        "x_test = np.array(x_test)\n",
        "xtest= np.reshape(xtest,(xtest.shape[0],xtest.shape[1],1))\n",
        "predicted_value= regression.predict(xtest)\n",
        "predicted_value = ss.inverse_transform(predicted_value)\n",
        "predicted_value"
      ],
      "metadata": {
        "colab": {
          "base_uri": "https://localhost:8080/"
        },
        "id": "qhOU_AQ_3yA6",
        "outputId": "b40b52f3-d10d-4a02-9283-176e4f586226"
      },
      "execution_count": 126,
      "outputs": [
        {
          "output_type": "execute_result",
          "data": {
            "text/plain": [
              "array([[1.7673810e-05],\n",
              "       [1.7642958e-05],\n",
              "       [1.7636563e-05],\n",
              "       [1.7540842e-05],\n",
              "       [1.7451894e-05],\n",
              "       [1.7413540e-05],\n",
              "       [1.7427665e-05],\n",
              "       [1.7453325e-05],\n",
              "       [1.7521983e-05],\n",
              "       [1.7657438e-05],\n",
              "       [1.7739216e-05],\n",
              "       [1.7715472e-05],\n",
              "       [1.7666564e-05],\n",
              "       [1.7658296e-05],\n",
              "       [1.7674900e-05],\n",
              "       [1.7729801e-05],\n",
              "       [1.7786031e-05],\n",
              "       [1.7772409e-05],\n",
              "       [1.7768152e-05],\n",
              "       [1.7796416e-05]], dtype=float32)"
            ]
          },
          "metadata": {},
          "execution_count": 126
        }
      ]
    },
    {
      "cell_type": "code",
      "source": [
        "xtest= []\n",
        "for i in range(20,40):\n",
        "    xtest.append(test_input[i-20:i,0]) "
      ],
      "metadata": {
        "id": "YC8kEDE0nWPm"
      },
      "execution_count": 94,
      "outputs": []
    },
    {
      "cell_type": "code",
      "source": [
        "xtest= np.array(xtest)"
      ],
      "metadata": {
        "id": "cJ7cFTo_pr36"
      },
      "execution_count": 95,
      "outputs": []
    },
    {
      "cell_type": "code",
      "source": [
        "xtest= np.reshape(xtest,(xtest.shape[0],xtest.shape[1],1))\n",
        "predicted_value= regression.predict(xtest)"
      ],
      "metadata": {
        "id": "d9SPh7fDpux3"
      },
      "execution_count": 96,
      "outputs": []
    },
    {
      "cell_type": "code",
      "source": [
        "predicted_value = ss.inverse_transform(predicted_value)"
      ],
      "metadata": {
        "id": "jhI2b8dLpwuw"
      },
      "execution_count": 97,
      "outputs": []
    },
    {
      "cell_type": "code",
      "source": [
        "plt.figure(figsize=(20,10))\n",
        "plt.plot(test,'red',label='Real Prices')\n",
        "plt.plot(predicted_value,'blue',label='Predicted Prices')\n",
        "plt.xlabel('Time')\n",
        "plt.ylabel('Prices')\n",
        "plt.title('Real vs Predicted Prices')\n",
        "plt.legend(loc='best', fontsize=20)"
      ],
      "metadata": {
        "colab": {
          "base_uri": "https://localhost:8080/",
          "height": 638
        },
        "id": "7edRhk3-pyAz",
        "outputId": "945b2dd6-2698-4023-9fb1-ad01a6d60307"
      },
      "execution_count": 127,
      "outputs": [
        {
          "output_type": "execute_result",
          "data": {
            "text/plain": [
              "<matplotlib.legend.Legend at 0x7fabca868710>"
            ]
          },
          "metadata": {},
          "execution_count": 127
        },
        {
          "output_type": "display_data",
          "data": {
            "image/png": "[encoded data removed]",
            "text/plain": [
              "<Figure size 1440x720 with 1 Axes>"
            ]
          },
          "metadata": {
            "needs_background": "light"
          }
        }
      ]
    },
    {
      "cell_type": "markdown",
      "source": [
        "## Sample Strategy Tester"
      ],
      "metadata": {
        "id": "JNT0pnC7uBhD"
      }
    },
    {
      "cell_type": "code",
      "source": [
        "minTime = np.argmin(predicted_value)\n",
        "maxTime = np.argmax(predicted_value)\n",
        "(test[maxTime] - test[minTime])/test[min(minTime, maxTime)]"
      ],
      "metadata": {
        "colab": {
          "base_uri": "https://localhost:8080/"
        },
        "id": "JS0ZKR5wuGkk",
        "outputId": "1f1c3bd1-9d9e-4b06-c1c7-f0b59a78af3d"
      },
      "execution_count": 128,
      "outputs": [
        {
          "output_type": "execute_result",
          "data": {
            "text/plain": [
              "array([-0.00053821])"
            ]
          },
          "metadata": {},
          "execution_count": 128
        }
      ]
    },
    {
      "cell_type": "markdown",
      "source": [
        "## Running for all samples"
      ],
      "metadata": {
        "id": "_b8TGGy1qxAB"
      }
    },
    {
      "cell_type": "code",
      "source": [
        "returns = []\n",
        "\n",
        "for i in range(6):\n",
        "  train, test, total = all_training_data[i], all_testing_data[i], all_total_data[i]\n",
        "\n",
        "  ss= MinMaxScaler(feature_range=(0,1))\n",
        "  train_scaled= ss.fit_transform(train)\n",
        "\n",
        "  x_train = []\n",
        "  y_train = []\n",
        "  for i in range(20,len(train_scaled)):\n",
        "      x_train.append(train_scaled[i-20:i,0])\n",
        "      y_train.append(train_scaled[i,0])\n",
        "\n",
        "  x_train, y_train = np.array(x_train), np.array(y_train)\n",
        "\n",
        "  x_train = np.reshape(x_train,(x_train.shape[0],x_train.shape[1],1))\n",
        "\n",
        "    #initialisizng the model \n",
        "  regression= Sequential()\n",
        "\n",
        "  #First Input layer and LSTM layer with 20% dropout\n",
        "  regression.add(LSTM(units=50,return_sequences=True,kernel_initializer='glorot_uniform',input_shape=(x_train.shape[1],1)))\n",
        "  regression.add(Dropout(0.2))\n",
        "\n",
        "  # Where:\n",
        "  #     return_sequences: Boolean. Whether to return the last output in the output sequence, or the full sequence.\n",
        "\n",
        "  # Second LSTM layer with 20% dropout\n",
        "  regression.add(LSTM(units=50,kernel_initializer='glorot_uniform',return_sequences=True))\n",
        "  regression.add(Dropout(0.2))\n",
        "\n",
        "  #Third LSTM layer with 20% dropout\n",
        "  regression.add(LSTM(units=50,kernel_initializer='glorot_uniform',return_sequences=True))\n",
        "  regression.add(Dropout(0.2))\n",
        "\n",
        "  #Fourth LSTM layer with 20% dropout, we wont use return sequence true in last layers as we dont want to previous output\n",
        "  regression.add(LSTM(units=50,kernel_initializer='glorot_uniform'))\n",
        "  regression.add(Dropout(0.2))\n",
        "  #Output layer , we wont pass any activation as its continous value model\n",
        "  regression.add(Dense(units=1))\n",
        "\n",
        "  #Compiling the network\n",
        "  regression.compile(optimizer='adam',loss='mean_squared_error')\n",
        "\n",
        "\n",
        "  #fitting the network\n",
        "  regression.fit(x_train,y_train,batch_size=30,epochs=100)\n",
        "\n",
        "  test_input = total[len(total)-len(test)-20:].values\n",
        "  test_input= test_input.reshape(-1,1) # reshaping it to get it transformed\n",
        "  test_input= ss.transform(test_input)\n",
        "\n",
        "  x_test = [test_input[0:20, 0]]\n",
        "  x_test = np.array(x_test)\n",
        "  xtest= np.reshape(xtest,(xtest.shape[0],xtest.shape[1],1))\n",
        "  predicted_value= regression.predict(xtest)\n",
        "  predicted_value = ss.inverse_transform(predicted_value)\n",
        "  \n",
        "  minTime = np.argmin(predicted_value)\n",
        "  maxTime = np.argmax(predicted_value)\n",
        "\n",
        "  \n",
        "\n",
        "  # Trading Strategy\n",
        "  # Get min and max predictions\n",
        "  # Long and Short accordingly\n",
        "\n",
        "  returns.append( (1 + (test[maxTime] - test[minTime])/test[min(minTime, maxTime)]))\n",
        "  \n",
        "  plt.figure(figsize=(20,10))\n",
        "  plt.plot(test,'red',label='Real Prices')\n",
        "  plt.plot(predicted_value,'blue',label='Predicted Prices')\n",
        "  plt.xlabel('Time')\n",
        "  plt.ylabel('Prices')\n",
        "  plt.title('Real vs Predicted Prices')\n",
        "  plt.legend(loc='best', fontsize=20)\n",
        "\n",
        "  plt.savefig(str(i) + \".png\")\n",
        "\n"
      ],
      "metadata": {
        "colab": {
          "base_uri": "https://localhost:8080/"
        },
        "id": "GNng4Arqqphq",
        "outputId": "9852e608-53e2-43e8-ec7d-55c3897bf6f1"
      },
      "execution_count": null,
      "outputs": [
        {
          "output_type": "stream",
          "name": "stdout",
          "text": [
            "Epoch 1/100\n",
            "32/32 [==============================] - 6s 32ms/step - loss: 0.0340\n",
            "Epoch 2/100\n",
            "32/32 [==============================] - 1s 32ms/step - loss: 0.0102\n",
            "Epoch 3/100\n",
            "32/32 [==============================] - 1s 32ms/step - loss: 0.0101\n",
            "Epoch 4/100\n",
            "32/32 [==============================] - 1s 32ms/step - loss: 0.0097\n",
            "Epoch 5/100\n",
            "32/32 [==============================] - 1s 33ms/step - loss: 0.0090\n",
            "Epoch 6/100\n",
            "32/32 [==============================] - 1s 32ms/step - loss: 0.0091\n",
            "Epoch 7/100\n",
            "32/32 [==============================] - 1s 32ms/step - loss: 0.0093\n",
            "Epoch 8/100\n",
            "32/32 [==============================] - 1s 32ms/step - loss: 0.0084\n",
            "Epoch 9/100\n",
            "32/32 [==============================] - 1s 33ms/step - loss: 0.0076\n",
            "Epoch 10/100\n",
            "32/32 [==============================] - 1s 32ms/step - loss: 0.0078\n",
            "Epoch 11/100\n",
            "32/32 [==============================] - 1s 33ms/step - loss: 0.0081\n",
            "Epoch 12/100\n",
            "32/32 [==============================] - 1s 33ms/step - loss: 0.0069\n",
            "Epoch 13/100\n",
            " 9/32 [=======>......................] - ETA: 0s - loss: 0.0063"
          ]
        }
      ]
    },
    {
      "cell_type": "code",
      "source": [
        "print(returns)\n",
        "np.prod(returns)"
      ],
      "metadata": {
        "colab": {
          "base_uri": "https://localhost:8080/"
        },
        "id": "eCzRqAzpyISt",
        "outputId": "d9fce31d-5f58-40e1-8f97-e1cf24defb3e"
      },
      "execution_count": 105,
      "outputs": [
        {
          "output_type": "stream",
          "name": "stdout",
          "text": [
            "[array([1.01084599]), array([0.99729547]), array([1.01760777]), array([1.00998668]), array([1.02126437]), array([1.00962117])]\n"
          ]
        },
        {
          "output_type": "execute_result",
          "data": {
            "text/plain": [
              "1.0683204142777247"
            ]
          },
          "metadata": {},
          "execution_count": 105
        }
      ]
    }
  ]
}